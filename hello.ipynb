{
 "metadata": {
  "language_info": {
   "codemirror_mode": {
    "name": "ipython",
    "version": 3
   },
   "file_extension": ".py",
   "mimetype": "text/x-python",
   "name": "python",
   "nbconvert_exporter": "python",
   "pygments_lexer": "ipython3",
   "version": "3.9.1-final"
  },
  "orig_nbformat": 2,
  "kernelspec": {
   "name": "python3",
   "display_name": "Python 3.9.1 64-bit",
   "metadata": {
    "interpreter": {
     "hash": "583c9568aa39caaa1643dc482898c18486846936909030e0218a82dbe3bb10a8"
    }
   }
  }
 },
 "nbformat": 4,
 "nbformat_minor": 2,
 "cells": [
  {
   "source": [
    "print(\"Hello world\")"
   ],
   "cell_type": "code",
   "metadata": {},
   "execution_count": null,
   "outputs": []
  },
  {
   "source": [
    "Define variables in python"
   ],
   "cell_type": "markdown",
   "metadata": {}
  },
  {
   "cell_type": "code",
   "execution_count": null,
   "metadata": {},
   "outputs": [],
   "source": [
    "# define a variable to store number\n",
    "number = 10\n",
    "print(number)"
   ]
  },
  {
   "cell_type": "code",
   "execution_count": null,
   "metadata": {},
   "outputs": [],
   "source": [
    "# define a variable to store string value\n",
    "name = \"John Smith\"\n",
    "print(name)"
   ]
  },
  {
   "cell_type": "code",
   "execution_count": null,
   "metadata": {},
   "outputs": [],
   "source": [
    "# concatenate variables and display values\n",
    "print(\"Hello \" + name + \", the number is \" + str(number))"
   ]
  },
  {
   "cell_type": "code",
   "execution_count": 6,
   "metadata": {},
   "outputs": [
    {
     "output_type": "stream",
     "name": "stdout",
     "text": [
      "Hello\nworld\n"
     ]
    }
   ],
   "source": [
    "print(\"Hello\")\n",
    "print(\"World\")"
   ]
  },
  {
   "cell_type": "code",
   "execution_count": 9,
   "metadata": {},
   "outputs": [
    {
     "output_type": "stream",
     "name": "stdout",
     "text": [
      "65\n"
     ]
    }
   ],
   "source": [
    "tv = 15\n",
    "mobile = 20\n",
    "tablet = 30\n",
    "\n",
    "# use \\ to indicate codes continue in the next line\n",
    "total = tv + \\\n",
    "mobile + \\\n",
    "tablet\n",
    "\n",
    "print(total)"
   ]
  },
  {
   "cell_type": "code",
   "execution_count": 12,
   "metadata": {},
   "outputs": [
    {
     "output_type": "stream",
     "name": "stdout",
     "text": [
      "362880\n"
     ]
    }
   ],
   "source": [
    "# indentation\n",
    "n = 9\n",
    "r = 1\n",
    "\n",
    "# while loop\n",
    "while n > 0 :\n",
    "    r = r * n\n",
    "    n = n - 1\n",
    "\n",
    "# print values after loop completed\n",
    "print(r)"
   ]
  },
  {
   "cell_type": "code",
   "execution_count": 13,
   "metadata": {},
   "outputs": [
    {
     "output_type": "stream",
     "name": "stdout",
     "text": [
      "hello\nhello\nhello\n    world\n\nhello\nworld\n\n"
     ]
    }
   ],
   "source": [
    "str1 = 'hello'\n",
    "str2 = \"hello\"\n",
    "str3 = \"\"\"hello\n",
    "    world\n",
    "\"\"\"\n",
    "str4 = '''hello\n",
    "world\n",
    "'''\n",
    "\n",
    "print(str1)\n",
    "print(str2)\n",
    "print(str3)\n",
    "print(str4)"
   ]
  },
  {
   "cell_type": "code",
   "execution_count": 15,
   "metadata": {},
   "outputs": [
    {
     "output_type": "stream",
     "name": "stdout",
     "text": [
      "20\nAge : 20\n"
     ]
    }
   ],
   "source": [
    "age = 20; print(age); print(\"Age : \" + str(age))"
   ]
  },
  {
   "cell_type": "code",
   "execution_count": 16,
   "metadata": {},
   "outputs": [
    {
     "output_type": "stream",
     "name": "stdout",
     "text": [
      "Hello \nWorld\n"
     ]
    }
   ],
   "source": [
    "print(\"Hello \\nWorld\")"
   ]
  },
  {
   "cell_type": "code",
   "execution_count": 17,
   "metadata": {},
   "outputs": [
    {
     "output_type": "stream",
     "name": "stdout",
     "text": [
      "Hello\tWorld\n"
     ]
    }
   ],
   "source": [
    "print(\"Hello\\tWorld\")"
   ]
  },
  {
   "cell_type": "code",
   "execution_count": 18,
   "metadata": {},
   "outputs": [
    {
     "output_type": "stream",
     "name": "stdout",
     "text": [
      "Hello\tWorld\n"
     ]
    }
   ],
   "source": [
    "print('Hello\\tWorld')"
   ]
  },
  {
   "cell_type": "code",
   "execution_count": 25,
   "metadata": {},
   "outputs": [
    {
     "output_type": "stream",
     "name": "stdout",
     "text": [
      "Emma\n",
      "12\n",
      "24\n",
      "EmmaEmmaEmma\n",
      "--------------------\n"
     ]
    }
   ],
   "source": [
    "name = input(\"Enter name\")\n",
    "print(name)\n",
    "\n",
    "# get a number and convert to integer\n",
    "number = int(input(\"Enter a new number\"))\n",
    "print(number)\n",
    "\n",
    "total = number * 2\n",
    "print(total)\n",
    "\n",
    "# repeat the string value\n",
    "print(name * 3)\n",
    "print('-' * 20)"
   ]
  },
  {
   "cell_type": "code",
   "execution_count": 26,
   "metadata": {},
   "outputs": [
    {
     "output_type": "stream",
     "name": "stdout",
     "text": [
      "Emma12\n"
     ]
    }
   ],
   "source": [
    "print(name + str(number))"
   ]
  },
  {
   "cell_type": "code",
   "execution_count": 28,
   "metadata": {},
   "outputs": [
    {
     "output_type": "stream",
     "name": "stdout",
     "text": [
      "99\n99\n99\n88\n99\n99\n"
     ]
    }
   ],
   "source": [
    "# define 3 variables at the same and all have same value\n",
    "a = b = c = 99\n",
    "print(a)\n",
    "print(b)\n",
    "print(c)\n",
    "\n",
    "a = 88\n",
    "print(a)\n",
    "print(b)\n",
    "print(c)"
   ]
  },
  {
   "cell_type": "code",
   "execution_count": 29,
   "metadata": {},
   "outputs": [
    {
     "output_type": "stream",
     "name": "stdout",
     "text": [
      "John john@example.com 30\n"
     ]
    }
   ],
   "source": [
    "# define 3 variables at the same and all have different values\n",
    "name, email, age = \"John\", \"john@example.com\", 30\n",
    "print(name + \" \" + email + \" \" + str(age))"
   ]
  },
  {
   "cell_type": "code",
   "execution_count": 30,
   "metadata": {},
   "outputs": [
    {
     "output_type": "stream",
     "name": "stdout",
     "text": [
      "pi = 3.14159\n"
     ]
    }
   ],
   "source": [
    "print(\"pi = %s\" % \"3.14159\")"
   ]
  },
  {
   "cell_type": "code",
   "execution_count": 34,
   "metadata": {},
   "outputs": [
    {
     "output_type": "stream",
     "name": "stdout",
     "text": [
      "pi = 3.14159\n"
     ]
    }
   ],
   "source": [
    "print(\"pi = %.5f\" % 3.14159)"
   ]
  },
  {
   "cell_type": "code",
   "execution_count": 36,
   "metadata": {},
   "outputs": [
    {
     "output_type": "stream",
     "name": "stdout",
     "text": [
      "pi is <3.14  >\npi is <  3.14>\n"
     ]
    }
   ],
   "source": [
    "print(\"pi is <%-6.2f>\" % 3.14159)\n",
    "print(\"pi is <%6.2f>\" % 3.14159)"
   ]
  },
  {
   "cell_type": "code",
   "execution_count": 44,
   "metadata": {},
   "outputs": [
    {
     "output_type": "stream",
     "name": "stdout",
     "text": [
      "Name : John, Email : john@example.com, Age : 30\nJohn\tjohn@example.com\t30.000\nBob\tbob@example.com\t35.000\n"
     ]
    }
   ],
   "source": [
    "# using the % to do formatting sequences\n",
    "\n",
    "(name, email, age) = (\"John\", \"john@example.com\", 30)\n",
    "\n",
    "print(\"Name : %s, Email : %s, Age : %d\" % (name, email, age))\n",
    "\n",
    "print(\"%s\\t%s\\t%6.3f\" % (name, email, age))\n",
    "\n",
    "# assign new values to name, email and age\n",
    "(name, email, age) = (\"Bob\", \"bob@example.com\", 35)\n",
    "print(\"%s\\t%s\\t%6.3f\" % (name, email, age))"
   ]
  },
  {
   "cell_type": "code",
   "execution_count": 49,
   "metadata": {},
   "outputs": [
    {
     "output_type": "stream",
     "name": "stdout",
     "text": [
      "Name : Bob, Email : bob@example.com, Age: 35\nAge: Bob, Name : Bob, Email : bob@example.com\n"
     ]
    }
   ],
   "source": [
    "# use the format() with numerical index\n",
    "print(\"Name : {0}, Email : {1}, Age: {2}\".format(name, email, age))\n",
    "print(\"Age: {0}, Name : {0}, Email : {1}\".format(name, email, age))"
   ]
  },
  {
   "cell_type": "code",
   "execution_count": 47,
   "metadata": {},
   "outputs": [
    {
     "output_type": "stream",
     "name": "stdout",
     "text": [
      "Name : Bob, Email : bob@example.com, Age : 35\nAge : 35, Name : Bob, Email : bob@example.com\n"
     ]
    }
   ],
   "source": [
    "# use name instead\n",
    "print(\"Name : {n}, Email : {e}, Age : {a}\".format(n=name, e=email, a=age))\n",
    "print(\"Age : {a}, Name : {n}, Email : {e}\".format(n=name, e=email, a=age))"
   ]
  },
  {
   "cell_type": "code",
   "execution_count": 56,
   "metadata": {},
   "outputs": [
    {
     "output_type": "stream",
     "name": "stdout",
     "text": [
      "Ambrossia  is the food of gods\nAmbrossiaccc is the food of gods\nAmbrossia  is the food of gods\nAmbrossia  is the food of gods\n Ambrossia is the food of gods\n&&&Ambross is the food of gods\n"
     ]
    }
   ],
   "source": [
    "print(\"{0:10} is the food of gods\".format(\"Ambrossia\"))\n",
    "print(\"{0:10} is the food of gods\".format(\"Ambrossiaccc\"))\n",
    "print(\"{0:{1}} is the food of gods\".format(\"Ambrossia\", 10))\n",
    "print(\"{food:{width}} is the food of gods\".format(food=\"Ambrossia\", width=10))\n",
    "print(\"{0:>10} is the food of gods\".format(\"Ambrossia\"))    # right-align\n",
    "print(\"{0:&>10} is the food of gods\".format(\"Ambross\"))   # right-align, replace whitespace with &"
   ]
  },
  {
   "cell_type": "code",
   "execution_count": 57,
   "metadata": {},
   "outputs": [
    {
     "output_type": "stream",
     "name": "stdout",
     "text": [
      "3.14 - 3.1416 - 2.72\n"
     ]
    }
   ],
   "source": [
    "# named parameters and formatting sequences\n",
    "num_dict = {'e' : 2.718, 'pi' : 3.14159}\n",
    "print(\"%(pi).2f - %(pi).4f - %(e).2f\" % num_dict)"
   ]
  },
  {
   "cell_type": "code",
   "execution_count": 63,
   "metadata": {},
   "outputs": [
    {
     "output_type": "stream",
     "name": "stdout",
     "text": [
      "Formatted time :  Mon Feb 22 13:37:16 2021\n"
     ]
    }
   ],
   "source": [
    "import time \n",
    "localtime = time.asctime(time.localtime(time.time()))\n",
    "print(\"Formatted time : \", localtime)"
   ]
  },
  {
   "cell_type": "code",
   "execution_count": 64,
   "metadata": {},
   "outputs": [
    {
     "output_type": "stream",
     "name": "stdout",
     "text": [
      "                                  2021\n\n      January                   February                   March\nMo Tu We Th Fr Sa Su      Mo Tu We Th Fr Sa Su      Mo Tu We Th Fr Sa Su\n             1  2  3       1  2  3  4  5  6  7       1  2  3  4  5  6  7\n 4  5  6  7  8  9 10       8  9 10 11 12 13 14       8  9 10 11 12 13 14\n11 12 13 14 15 16 17      15 16 17 18 19 20 21      15 16 17 18 19 20 21\n18 19 20 21 22 23 24      22 23 24 25 26 27 28      22 23 24 25 26 27 28\n25 26 27 28 29 30 31                                29 30 31\n\n       April                      May                       June\nMo Tu We Th Fr Sa Su      Mo Tu We Th Fr Sa Su      Mo Tu We Th Fr Sa Su\n          1  2  3  4                      1  2          1  2  3  4  5  6\n 5  6  7  8  9 10 11       3  4  5  6  7  8  9       7  8  9 10 11 12 13\n12 13 14 15 16 17 18      10 11 12 13 14 15 16      14 15 16 17 18 19 20\n19 20 21 22 23 24 25      17 18 19 20 21 22 23      21 22 23 24 25 26 27\n26 27 28 29 30            24 25 26 27 28 29 30      28 29 30\n                          31\n\n        July                     August                  September\nMo Tu We Th Fr Sa Su      Mo Tu We Th Fr Sa Su      Mo Tu We Th Fr Sa Su\n          1  2  3  4                         1             1  2  3  4  5\n 5  6  7  8  9 10 11       2  3  4  5  6  7  8       6  7  8  9 10 11 12\n12 13 14 15 16 17 18       9 10 11 12 13 14 15      13 14 15 16 17 18 19\n19 20 21 22 23 24 25      16 17 18 19 20 21 22      20 21 22 23 24 25 26\n26 27 28 29 30 31         23 24 25 26 27 28 29      27 28 29 30\n                          30 31\n\n      October                   November                  December\nMo Tu We Th Fr Sa Su      Mo Tu We Th Fr Sa Su      Mo Tu We Th Fr Sa Su\n             1  2  3       1  2  3  4  5  6  7             1  2  3  4  5\n 4  5  6  7  8  9 10       8  9 10 11 12 13 14       6  7  8  9 10 11 12\n11 12 13 14 15 16 17      15 16 17 18 19 20 21      13 14 15 16 17 18 19\n18 19 20 21 22 23 24      22 23 24 25 26 27 28      20 21 22 23 24 25 26\n25 26 27 28 29 30 31      29 30                     27 28 29 30 31\n"
     ]
    }
   ],
   "source": [
    "import calendar\n",
    "calendar.prcal(2021)"
   ]
  },
  {
   "cell_type": "code",
   "execution_count": 68,
   "metadata": {},
   "outputs": [
    {
     "output_type": "stream",
     "name": "stdout",
     "text": [
      "equal 5\n"
     ]
    }
   ],
   "source": [
    "# conditional statements\n",
    "x = 5\n",
    "\n",
    "if x == 5 :\n",
    "    print(\"equal 5\")\n",
    "elif x > 5 :\n",
    "    print(\"greater than 5\")\n",
    "else :\n",
    "    print(\"less than 5\")"
   ]
  },
  {
   "cell_type": "code",
   "execution_count": 70,
   "metadata": {},
   "outputs": [
    {
     "output_type": "stream",
     "name": "stdout",
     "text": [
      "1\n2\n3\n4\n5\n"
     ]
    }
   ],
   "source": [
    "# iterate 1 to 5 and display value\n",
    "for v in range(1, 6) :\n",
    "    print(v)"
   ]
  },
  {
   "cell_type": "code",
   "execution_count": 71,
   "metadata": {},
   "outputs": [
    {
     "output_type": "stream",
     "name": "stdout",
     "text": [
      "0\n1\n2\n3\n4\n"
     ]
    }
   ],
   "source": [
    "for v in range(5) :\n",
    "    print(v)"
   ]
  },
  {
   "cell_type": "code",
   "execution_count": 72,
   "metadata": {},
   "outputs": [
    {
     "output_type": "stream",
     "name": "stdout",
     "text": [
      "2\n4\n6\n8\n10\n12\n14\n16\n18\n20\n22\n24\n26\n28\n"
     ]
    }
   ],
   "source": [
    "for v in range(2, 30, 2) :\n",
    "    print(v)"
   ]
  },
  {
   "cell_type": "code",
   "execution_count": 73,
   "metadata": {},
   "outputs": [
    {
     "output_type": "stream",
     "name": "stdout",
     "text": [
      "apple\nbanana\ncherry\n"
     ]
    }
   ],
   "source": [
    "# list of fruit names\n",
    "fruits = [\"apple\", \"banana\", \"cherry\"]\n",
    "for f in fruits :\n",
    "    print(f)"
   ]
  },
  {
   "cell_type": "code",
   "execution_count": 74,
   "metadata": {},
   "outputs": [
    {
     "output_type": "stream",
     "name": "stdout",
     "text": [
      "J\no\nh\nn\n \nS\nm\ni\nt\nh\n"
     ]
    }
   ],
   "source": [
    "name = \"John Smith\"\n",
    "for s in name :\n",
    "    print(s)"
   ]
  },
  {
   "cell_type": "code",
   "execution_count": 77,
   "metadata": {},
   "outputs": [
    {
     "output_type": "stream",
     "name": "stdout",
     "text": [
      "apple\nbanana\n"
     ]
    }
   ],
   "source": [
    "# stop looping when f is banana - break : exit from the current block\n",
    "for f in fruits :\n",
    "    print(f)\n",
    "    if f == \"banana\" :\n",
    "        break"
   ]
  },
  {
   "cell_type": "code",
   "execution_count": 79,
   "metadata": {},
   "outputs": [
    {
     "output_type": "stream",
     "name": "stdout",
     "text": [
      "apple\ncherry\n"
     ]
    }
   ],
   "source": [
    "# continue : go to next iteration/item\n",
    "for f in fruits :\n",
    "    if f == \"banana\" :\n",
    "        continue\n",
    "    print(f)"
   ]
  },
  {
   "cell_type": "code",
   "execution_count": 80,
   "metadata": {},
   "outputs": [
    {
     "output_type": "stream",
     "name": "stdout",
     "text": [
      "1\n2\n3\n4\n5\n"
     ]
    }
   ],
   "source": [
    "# while-loop 1 to 5\n",
    "i = 1\n",
    "while i <= 5 :\n",
    "    print(i)\n",
    "    i += 1"
   ]
  },
  {
   "cell_type": "code",
   "execution_count": 81,
   "metadata": {},
   "outputs": [
    {
     "output_type": "stream",
     "name": "stdout",
     "text": [
      "1\n2\n"
     ]
    }
   ],
   "source": [
    "i = 1\n",
    "while i <= 5 :\n",
    "    if i == 3 :\n",
    "        break\n",
    "    print(i)\n",
    "    i += 1"
   ]
  },
  {
   "cell_type": "code",
   "execution_count": 84,
   "metadata": {},
   "outputs": [
    {
     "output_type": "stream",
     "name": "stdout",
     "text": [
      "2\n4\n5\n6\n"
     ]
    }
   ],
   "source": [
    "i = 1\n",
    "while i <= 5 :\n",
    "    i += 1\n",
    "    if i == 3 :\n",
    "        continue\n",
    "    print(i)\n",
    "    "
   ]
  },
  {
   "cell_type": "code",
   "execution_count": 85,
   "metadata": {},
   "outputs": [
    {
     "output_type": "stream",
     "name": "stdout",
     "text": [
      "apple\nbanana\ncherry\n"
     ]
    }
   ],
   "source": [
    "# use while loop to iterate fruits\n",
    "i = 0\n",
    "while i < len(fruits) :\n",
    "    print(fruits[i])\n",
    "    i += 1"
   ]
  },
  {
   "cell_type": "code",
   "execution_count": 89,
   "metadata": {},
   "outputs": [
    {
     "output_type": "stream",
     "name": "stdout",
     "text": [
      "cannot convert to int\n"
     ]
    }
   ],
   "source": [
    "number = \"abc\"  # user input - string\n",
    "\n",
    "try :\n",
    "    total = int(number) + 2\n",
    "except :\n",
    "    print(\"cannot convert to int\")"
   ]
  },
  {
   "cell_type": "code",
   "execution_count": 97,
   "metadata": {},
   "outputs": [
    {
     "output_type": "stream",
     "name": "stdout",
     "text": [
      "Python Data Science\nPytho\nn Data Science\nPytho\nn Dat\nience\nPython Data Sc\n"
     ]
    }
   ],
   "source": [
    "# example of string slicing\n",
    "title = \"Python Data Science\"\n",
    "print(title)\n",
    "\n",
    "subtitle = title[0:5]\n",
    "print(subtitle)\n",
    "\n",
    "subtitle = title[5:]\n",
    "print(subtitle)\n",
    "\n",
    "subtitle = title[:5]\n",
    "print(subtitle)\n",
    "\n",
    "subtitle = title[5:10]\n",
    "print(subtitle)\n",
    "\n",
    "subtitle = title[-5:]\n",
    "print(subtitle)\n",
    "\n",
    "subtitle = title[:-5]\n",
    "print(subtitle)"
   ]
  },
  {
   "cell_type": "code",
   "execution_count": 101,
   "metadata": {},
   "outputs": [
    {
     "output_type": "stream",
     "name": "stdout",
     "text": [
      "True\nFalse\nTrue\n"
     ]
    }
   ],
   "source": [
    "subtext = \"Python\"\n",
    "print(subtext in title)\n",
    "\n",
    "subtext = \"python\"\n",
    "print(subtext in title)\n",
    "\n",
    "subtext = \"python\"\n",
    "print(subtext not in title)"
   ]
  },
  {
   "cell_type": "code",
   "execution_count": 104,
   "metadata": {},
   "outputs": [
    {
     "output_type": "stream",
     "name": "stdout",
     "text": [
      "Total:  3\n"
     ]
    }
   ],
   "source": [
    "# use lambda to define anonymous function\n",
    "sum = lambda val1, val2 : val1 + val2\n",
    "\n",
    "# call sum function and display result\n",
    "print(\"Total: \", sum(1, 2))"
   ]
  },
  {
   "cell_type": "code",
   "execution_count": 105,
   "metadata": {},
   "outputs": [
    {
     "output_type": "stream",
     "name": "stdout",
     "text": [
      "Total:  3\n"
     ]
    }
   ],
   "source": [
    "# use python syntax to define function\n",
    "def add(val1, val2) :\n",
    "    return val1 + val2\n",
    "\n",
    "print(\"Total: \", add(1, 2))"
   ]
  },
  {
   "cell_type": "code",
   "execution_count": null,
   "metadata": {},
   "outputs": [],
   "source": []
  }
 ]
}